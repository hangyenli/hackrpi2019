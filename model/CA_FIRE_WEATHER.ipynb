{
 "cells": [
  {
   "cell_type": "code",
   "execution_count": 2,
   "metadata": {
    "_cell_guid": "3c5d82ba-85a5-44a2-84ef-7426f22825e3",
    "_uuid": "616c73a7a6d8d5e4bf4bdd9b43118b8734079a1b"
   },
   "outputs": [
    {
     "ename": "ModuleNotFoundError",
     "evalue": "No module named 'julian'",
     "output_type": "error",
     "traceback": [
      "\u001b[0;31m---------------------------------------------------------------------------\u001b[0m",
      "\u001b[0;31mModuleNotFoundError\u001b[0m                       Traceback (most recent call last)",
      "\u001b[0;32m<ipython-input-2-26a453da7bb8>\u001b[0m in \u001b[0;36m<module>\u001b[0;34m\u001b[0m\n\u001b[1;32m      8\u001b[0m \u001b[0;32mimport\u001b[0m \u001b[0mmatplotlib\u001b[0m\u001b[0;34m.\u001b[0m\u001b[0mpyplot\u001b[0m \u001b[0;32mas\u001b[0m \u001b[0mplt\u001b[0m\u001b[0;34m\u001b[0m\u001b[0;34m\u001b[0m\u001b[0m\n\u001b[1;32m      9\u001b[0m \u001b[0;32mimport\u001b[0m \u001b[0mseaborn\u001b[0m \u001b[0;32mas\u001b[0m \u001b[0msns\u001b[0m\u001b[0;34m\u001b[0m\u001b[0;34m\u001b[0m\u001b[0m\n\u001b[0;32m---> 10\u001b[0;31m \u001b[0;32mimport\u001b[0m \u001b[0mjulian\u001b[0m\u001b[0;34m\u001b[0m\u001b[0;34m\u001b[0m\u001b[0m\n\u001b[0m\u001b[1;32m     11\u001b[0m \u001b[0;32mimport\u001b[0m \u001b[0mdatetime\u001b[0m\u001b[0;34m\u001b[0m\u001b[0;34m\u001b[0m\u001b[0m\n\u001b[1;32m     12\u001b[0m \u001b[0;31m# Input data files are available in the \"../input/\" directory.\u001b[0m\u001b[0;34m\u001b[0m\u001b[0;34m\u001b[0m\u001b[0;34m\u001b[0m\u001b[0m\n",
      "\u001b[0;31mModuleNotFoundError\u001b[0m: No module named 'julian'"
     ]
    }
   ],
   "source": [
    "# This Python 3 environment comes with many helpful analytics libraries installed\n",
    "# It is defined by the kaggle/python docker image: https://github.com/kaggle/docker-python\n",
    "# For example, here's several helpful packages to load in \n",
    "\n",
    "import numpy as np # linear algebra\n",
    "import pandas as pd # data processing, CSV file I/O (e.g. pd.read_csv)\n",
    "import sqlite3\n",
    "import matplotlib.pyplot as plt\n",
    "import seaborn as sns\n",
    "import julian\n",
    "import datetime\n",
    "# Input data files are available in the \"../input/\" directory.\n",
    "# For example, running this (by clicking run or pressing Shift+Enter) will list the files in the input directory\n",
    "\n",
    "from subprocess import check_output\n",
    "print(check_output([\"ls\", \"../Downloads/CA_wildfire\"]).decode(\"utf8\"))\n",
    "\n",
    "# Any results you write to the current directory are saved as output.\n",
    "\n"
   ]
  },
  {
   "cell_type": "code",
   "execution_count": null,
   "metadata": {
    "_cell_guid": "030fa442-1ff1-4656-9e7a-388c400fc03e",
    "_uuid": "325f17a97d440c09dc4933a03846ef501ebf870b",
    "collapsed": true
   },
   "outputs": [],
   "source": [
    "# WildFire in US\n",
    "cnx = sqlite3.connect('../input/FPA_FOD_20170508.sqlite')\n",
    "df = pd.read_sql_query(\"SELECT LATITUDE, LONGITUDE, FIRE_SIZE, STATE,STAT_CAUSE_CODE,STAT_CAUSE_DESCR,DISCOVERY_DATE = Date FROM fires\", cnx)\n",
    "CA = (df['STATE']=='CA')\n",
    "df_CA = df[CA]\n",
    "print(df_CA.head(5))"
   ]
  },
  {
   "cell_type": "code",
   "execution_count": null,
   "metadata": {
    "_cell_guid": "1c262f25-cbad-498c-a115-db534173cdd5",
    "_uuid": "befde23113711d4e2a0bc61308243edb920b6e76",
    "collapsed": true
   },
   "outputs": [],
   "source": [
    "# plt.hist(df_CA.STAT_CAUSE_CODE)\n",
    "# plt.title(\"Fire cause\")\n",
    "# plt.xlabel(\"causes\", bins=9)\n",
    "# plt.ylabel(\"times\")\n",
    "chart = sns.countplot(\n",
    "    data=df_CA,\n",
    "    x='STAT_CAUSE_DESCR',\n",
    ")\n",
    "chart.set_xticklabels(chart.get_xticklabels(),rotation=45,horizontalalignment='right',fontweight='light',fontsize='x-large')"
   ]
  },
  {
   "cell_type": "markdown",
   "metadata": {
    "_cell_guid": "97575e07-7a23-448d-9596-89c971b3a3b6",
    "_uuid": "424919e36bb1940766c9fcba9422ccae69b36f7c"
   },
   "source": [
    " First, I want to see how the number of wildfires may vary up to year/date. We can take a look at the following bar graph and at 2006 there are too many wildfires compared to other years. "
   ]
  },
  {
   "cell_type": "code",
   "execution_count": null,
   "metadata": {
    "_cell_guid": "dd242718-164b-42c7-80f0-063a145bb946",
    "_uuid": "5aa1b6da874fc3f3780ff55a485d4402bcee65fe",
    "collapsed": true,
    "scrolled": false
   },
   "outputs": [],
   "source": [
    "# \n",
    "fire_year = df.groupby('FIRE_YEAR').size()\n",
    "plt.bar(range(len(fire_year)), fire_year.values, width = 0.5)\n",
    "plt.xticks(range(len(fire_year)), fire_year.index, rotation = 50)\n",
    "plt.show()"
   ]
  },
  {
   "cell_type": "markdown",
   "metadata": {
    "_cell_guid": "998a4864-25b2-4a01-8b90-1651f02e82b6",
    "_uuid": "f8c45c6a54b9802e882979f5728b5c98159a8d69"
   },
   "source": [
    "Moreover, it also varies up to date. We can see some local maximums on April and July and local minimum on May and June. "
   ]
  },
  {
   "cell_type": "code",
   "execution_count": null,
   "metadata": {
    "_cell_guid": "2def53ed-185d-46c0-ac9e-089e0b014615",
    "_uuid": "bd8bd2e0030ea6aed73960ac19edf2fff2134193",
    "collapsed": true,
    "scrolled": false
   },
   "outputs": [],
   "source": [
    "fire_date = df.groupby('DISCOVERY_DOY').size()\n",
    "plt.scatter(fire_date.index, fire_date.values)\n",
    "plt.show()"
   ]
  },
  {
   "cell_type": "markdown",
   "metadata": {
    "_cell_guid": "84305038-4cb4-42a0-a5a4-9fb312965867",
    "_uuid": "f0612a5a53cf7bf84607ceb8aa238fd0de4f15b8"
   },
   "source": [
    "Lastly, I want to see the relation between the cause and the fire year.  Interestingly, there are a large number of wildfires in 2006 because of Debris Burning. "
   ]
  },
  {
   "cell_type": "code",
   "execution_count": null,
   "metadata": {
    "_cell_guid": "c29aa224-51af-4845-9d20-81ff2669fee7",
    "_uuid": "6108dfe81e9ebca32f3a62ffaeffb1f8d41e4d85",
    "collapsed": true
   },
   "outputs": [],
   "source": [
    "sns.heatmap(pd.crosstab(df.FIRE_YEAR, df.STAT_CAUSE_DESCR))\n",
    "plt.show()"
   ]
  },
  {
   "cell_type": "markdown",
   "metadata": {
    "_cell_guid": "1f759a75-f519-4a95-a857-ae2799ac2907",
    "_uuid": "886b3c3ab62ac9c409f07b848b0c7d2bb572daef"
   },
   "source": [
    "Lastly, You may vary the years and the causes and check distributions of the number of wildfires on each state in the following Tableau dashboard. Another interesting fact we observe by going through the following visualization is that in 2006 there are a large number of wildfires in Texas due to debris burning. \n",
    "\n",
    "https://us-west-2b.online.tableau.com/t/jungajunga/views/WildfiresinUS/Dashboard1?:embed=y&:showAppBanner=false&:showShareOptions=true&:display_count=no&:showVizHome=no\n",
    "\n",
    "(Please let me know if the link does not work.)"
   ]
  }
 ],
 "metadata": {
  "kernelspec": {
   "display_name": "Python 3",
   "language": "python",
   "name": "python3"
  },
  "language_info": {
   "codemirror_mode": {
    "name": "ipython",
    "version": 3
   },
   "file_extension": ".py",
   "mimetype": "text/x-python",
   "name": "python",
   "nbconvert_exporter": "python",
   "pygments_lexer": "ipython3",
   "version": "3.7.1"
  }
 },
 "nbformat": 4,
 "nbformat_minor": 1
}
